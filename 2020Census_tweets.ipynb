{
 "cells": [
  {
   "cell_type": "markdown",
   "metadata": {},
   "source": [
    "# #2020Census"
   ]
  },
  {
   "cell_type": "code",
   "execution_count": 1,
   "metadata": {},
   "outputs": [],
   "source": [
    "import pandas as pd\n",
    "import numpy as np\n",
    "import matplotlib.pyplot as plt\n",
    "%matplotlib inline"
   ]
  },
  {
   "cell_type": "code",
   "execution_count": 2,
   "metadata": {},
   "outputs": [],
   "source": [
    "frames = []\n",
    "for m in range(1,6):\n",
    "    temp_df = pd.read_csv(f\"data/census_tweets_month_{m}.csv\",parse_dates=[\"date\"])\n",
    "    frames.append(temp_df)"
   ]
  },
  {
   "cell_type": "code",
   "execution_count": 3,
   "metadata": {},
   "outputs": [
    {
     "name": "stdout",
     "output_type": "stream",
     "text": [
      "(119631, 11)\n"
     ]
    },
    {
     "data": {
      "text/html": [
       "<div>\n",
       "<style scoped>\n",
       "    .dataframe tbody tr th:only-of-type {\n",
       "        vertical-align: middle;\n",
       "    }\n",
       "\n",
       "    .dataframe tbody tr th {\n",
       "        vertical-align: top;\n",
       "    }\n",
       "\n",
       "    .dataframe thead th {\n",
       "        text-align: right;\n",
       "    }\n",
       "</style>\n",
       "<table border=\"1\" class=\"dataframe\">\n",
       "  <thead>\n",
       "    <tr style=\"text-align: right;\">\n",
       "      <th></th>\n",
       "      <th>id</th>\n",
       "      <th>timestamp</th>\n",
       "      <th>username</th>\n",
       "      <th>text</th>\n",
       "      <th>hashtags</th>\n",
       "      <th>geo</th>\n",
       "      <th>retweets</th>\n",
       "      <th>favorites</th>\n",
       "      <th>mentions</th>\n",
       "      <th>to</th>\n",
       "      <th>date</th>\n",
       "    </tr>\n",
       "  </thead>\n",
       "  <tbody>\n",
       "    <tr>\n",
       "      <td>10143</td>\n",
       "      <td>1.212480e+18</td>\n",
       "      <td>2020-01-01 21:05:29+00:00</td>\n",
       "      <td>CountTheNation</td>\n",
       "      <td>$800 BILLION WHO!? WHAT!? The more people cou...</td>\n",
       "      <td>#ThisisUS #StandUpBeCounted #2020Census #Every...</td>\n",
       "      <td>NaN</td>\n",
       "      <td>0</td>\n",
       "      <td>2</td>\n",
       "      <td>@ColorOfChange @NALEO @uscensusbureau</td>\n",
       "      <td>NaN</td>\n",
       "      <td>2020-01-01</td>\n",
       "    </tr>\n",
       "    <tr>\n",
       "      <td>10162</td>\n",
       "      <td>1.212449e+18</td>\n",
       "      <td>2020-01-01 19:00:56+00:00</td>\n",
       "      <td>WakeGOV</td>\n",
       "      <td>#HappyNewYear! The #2020Census is closer than ...</td>\n",
       "      <td>#HappyNewYear #2020Census #Census101 #WakeCounts</td>\n",
       "      <td>NaN</td>\n",
       "      <td>2</td>\n",
       "      <td>3</td>\n",
       "      <td>NaN</td>\n",
       "      <td>NaN</td>\n",
       "      <td>2020-01-01</td>\n",
       "    </tr>\n",
       "    <tr>\n",
       "      <td>10163</td>\n",
       "      <td>1.212448e+18</td>\n",
       "      <td>2020-01-01 19:00:02+00:00</td>\n",
       "      <td>CAPOrangeCounty</td>\n",
       "      <td>¡Es oficialmente el 2020! ¡Su primer meta del ...</td>\n",
       "      <td>#CENSO2020 #CENSO2020 #OCCuenta2020 #NewYear #...</td>\n",
       "      <td>NaN</td>\n",
       "      <td>2</td>\n",
       "      <td>1</td>\n",
       "      <td>NaN</td>\n",
       "      <td>NaN</td>\n",
       "      <td>2020-01-01</td>\n",
       "    </tr>\n",
       "    <tr>\n",
       "      <td>10164</td>\n",
       "      <td>1.212448e+18</td>\n",
       "      <td>2020-01-01 18:59:48+00:00</td>\n",
       "      <td>AlabamaCounts</td>\n",
       "      <td>The #2020Census is almost here. We are ready f...</td>\n",
       "      <td>#2020Census</td>\n",
       "      <td>NaN</td>\n",
       "      <td>3</td>\n",
       "      <td>1</td>\n",
       "      <td>NaN</td>\n",
       "      <td>uscensusbureau</td>\n",
       "      <td>2020-01-01</td>\n",
       "    </tr>\n",
       "    <tr>\n",
       "      <td>10165</td>\n",
       "      <td>1.212446e+18</td>\n",
       "      <td>2020-01-01 18:51:59+00:00</td>\n",
       "      <td>JeffWice</td>\n",
       "      <td>NY projected to lose 1 congressional district ...</td>\n",
       "      <td>#2020Census</td>\n",
       "      <td>NaN</td>\n",
       "      <td>2</td>\n",
       "      <td>2</td>\n",
       "      <td>@mandy_fries @timesunion @NYLawSchool @NYElect...</td>\n",
       "      <td>NaN</td>\n",
       "      <td>2020-01-01</td>\n",
       "    </tr>\n",
       "  </tbody>\n",
       "</table>\n",
       "</div>"
      ],
      "text/plain": [
       "                 id                  timestamp         username  \\\n",
       "10143  1.212480e+18  2020-01-01 21:05:29+00:00   CountTheNation   \n",
       "10162  1.212449e+18  2020-01-01 19:00:56+00:00          WakeGOV   \n",
       "10163  1.212448e+18  2020-01-01 19:00:02+00:00  CAPOrangeCounty   \n",
       "10164  1.212448e+18  2020-01-01 18:59:48+00:00    AlabamaCounts   \n",
       "10165  1.212446e+18  2020-01-01 18:51:59+00:00         JeffWice   \n",
       "\n",
       "                                                    text  \\\n",
       "10143   $800 BILLION WHO!? WHAT!? The more people cou...   \n",
       "10162  #HappyNewYear! The #2020Census is closer than ...   \n",
       "10163  ¡Es oficialmente el 2020! ¡Su primer meta del ...   \n",
       "10164  The #2020Census is almost here. We are ready f...   \n",
       "10165  NY projected to lose 1 congressional district ...   \n",
       "\n",
       "                                                hashtags  geo  retweets  \\\n",
       "10143  #ThisisUS #StandUpBeCounted #2020Census #Every...  NaN         0   \n",
       "10162   #HappyNewYear #2020Census #Census101 #WakeCounts  NaN         2   \n",
       "10163  #CENSO2020 #CENSO2020 #OCCuenta2020 #NewYear #...  NaN         2   \n",
       "10164                                        #2020Census  NaN         3   \n",
       "10165                                        #2020Census  NaN         2   \n",
       "\n",
       "       favorites                                           mentions  \\\n",
       "10143          2              @ColorOfChange @NALEO @uscensusbureau   \n",
       "10162          3                                                NaN   \n",
       "10163          1                                                NaN   \n",
       "10164          1                                                NaN   \n",
       "10165          2  @mandy_fries @timesunion @NYLawSchool @NYElect...   \n",
       "\n",
       "                   to       date  \n",
       "10143             NaN 2020-01-01  \n",
       "10162             NaN 2020-01-01  \n",
       "10163             NaN 2020-01-01  \n",
       "10164  uscensusbureau 2020-01-01  \n",
       "10165             NaN 2020-01-01  "
      ]
     },
     "execution_count": 3,
     "metadata": {},
     "output_type": "execute_result"
    }
   ],
   "source": [
    "df = pd.concat(frames).sort_values(by=['date'])\n",
    "print(df.shape)\n",
    "df.head()"
   ]
  },
  {
   "cell_type": "markdown",
   "metadata": {},
   "source": [
    "## Tweets per day"
   ]
  },
  {
   "cell_type": "code",
   "execution_count": 4,
   "metadata": {},
   "outputs": [],
   "source": [
    "grouped = df.groupby(\"date\")"
   ]
  },
  {
   "cell_type": "code",
   "execution_count": 5,
   "metadata": {},
   "outputs": [
    {
     "data": {
      "text/html": [
       "<div>\n",
       "<style scoped>\n",
       "    .dataframe tbody tr th:only-of-type {\n",
       "        vertical-align: middle;\n",
       "    }\n",
       "\n",
       "    .dataframe tbody tr th {\n",
       "        vertical-align: top;\n",
       "    }\n",
       "\n",
       "    .dataframe thead th {\n",
       "        text-align: right;\n",
       "    }\n",
       "</style>\n",
       "<table border=\"1\" class=\"dataframe\">\n",
       "  <thead>\n",
       "    <tr style=\"text-align: right;\">\n",
       "      <th></th>\n",
       "      <th>tweets</th>\n",
       "      <th>unique_users</th>\n",
       "    </tr>\n",
       "    <tr>\n",
       "      <th>date</th>\n",
       "      <th></th>\n",
       "      <th></th>\n",
       "    </tr>\n",
       "  </thead>\n",
       "  <tbody>\n",
       "    <tr>\n",
       "      <td>2020-01-01</td>\n",
       "      <td>117</td>\n",
       "      <td>108</td>\n",
       "    </tr>\n",
       "    <tr>\n",
       "      <td>2020-01-02</td>\n",
       "      <td>188</td>\n",
       "      <td>178</td>\n",
       "    </tr>\n",
       "    <tr>\n",
       "      <td>2020-01-03</td>\n",
       "      <td>180</td>\n",
       "      <td>155</td>\n",
       "    </tr>\n",
       "    <tr>\n",
       "      <td>2020-01-04</td>\n",
       "      <td>111</td>\n",
       "      <td>83</td>\n",
       "    </tr>\n",
       "    <tr>\n",
       "      <td>2020-01-05</td>\n",
       "      <td>72</td>\n",
       "      <td>67</td>\n",
       "    </tr>\n",
       "    <tr>\n",
       "      <td>...</td>\n",
       "      <td>...</td>\n",
       "      <td>...</td>\n",
       "    </tr>\n",
       "    <tr>\n",
       "      <td>2020-05-07</td>\n",
       "      <td>906</td>\n",
       "      <td>747</td>\n",
       "    </tr>\n",
       "    <tr>\n",
       "      <td>2020-05-08</td>\n",
       "      <td>846</td>\n",
       "      <td>692</td>\n",
       "    </tr>\n",
       "    <tr>\n",
       "      <td>2020-05-09</td>\n",
       "      <td>415</td>\n",
       "      <td>364</td>\n",
       "    </tr>\n",
       "    <tr>\n",
       "      <td>2020-05-10</td>\n",
       "      <td>241</td>\n",
       "      <td>204</td>\n",
       "    </tr>\n",
       "    <tr>\n",
       "      <td>2020-05-11</td>\n",
       "      <td>746</td>\n",
       "      <td>607</td>\n",
       "    </tr>\n",
       "  </tbody>\n",
       "</table>\n",
       "<p>132 rows × 2 columns</p>\n",
       "</div>"
      ],
      "text/plain": [
       "            tweets  unique_users\n",
       "date                            \n",
       "2020-01-01     117           108\n",
       "2020-01-02     188           178\n",
       "2020-01-03     180           155\n",
       "2020-01-04     111            83\n",
       "2020-01-05      72            67\n",
       "...            ...           ...\n",
       "2020-05-07     906           747\n",
       "2020-05-08     846           692\n",
       "2020-05-09     415           364\n",
       "2020-05-10     241           204\n",
       "2020-05-11     746           607\n",
       "\n",
       "[132 rows x 2 columns]"
      ]
     },
     "execution_count": 5,
     "metadata": {},
     "output_type": "execute_result"
    }
   ],
   "source": [
    "df_grouped=pd.DataFrame({\"tweets\": grouped[\"id\"].count(),\"unique_users\": grouped[\"username\"].nunique()})\n",
    "df_grouped"
   ]
  },
  {
   "cell_type": "code",
   "execution_count": 6,
   "metadata": {
    "scrolled": false
   },
   "outputs": [
    {
     "data": {
      "image/png": "[encoded data removed]",
      "text/plain": [
       "<Figure size 864x432 with 1 Axes>"
      ]
     },
     "metadata": {
      "needs_background": "light"
     },
     "output_type": "display_data"
    }
   ],
   "source": [
    "fig, ax = plt.subplots(1,1,figsize=(12,6))\n",
    "\n",
    "df_grouped.tweets.plot(style='-', label=\"tweets\",ax=ax)\n",
    "df_grouped.unique_users.plot(style=\"-\",label=\"unique users\",ax=ax)\n",
    "\n",
    "ax.set_xlabel(\"Date\")\n",
    "ax.set_ylabel(\"Count\")\n",
    "\n",
    "ax.set_title(\"#2020Census\")\n",
    "plt.legend();"
   ]
  },
  {
   "cell_type": "markdown",
   "metadata": {},
   "source": [
    "Days with more tweets:"
   ]
  },
  {
   "cell_type": "code",
   "execution_count": 7,
   "metadata": {
    "scrolled": true
   },
   "outputs": [
    {
     "data": {
      "text/plain": [
       "date\n",
       "2020-04-01    11647\n",
       "2020-03-24     2835\n",
       "2020-03-12     2677\n",
       "2020-03-31     2495\n",
       "2020-04-02     2422\n",
       "Name: tweets, dtype: int64"
      ]
     },
     "execution_count": 7,
     "metadata": {},
     "output_type": "execute_result"
    }
   ],
   "source": [
    "df_grouped.sort_values([\"tweets\"], ascending=False)[\"tweets\"].iloc[:5]"
   ]
  },
  {
   "cell_type": "markdown",
   "metadata": {},
   "source": [
    "## Tweets per month"
   ]
  },
  {
   "cell_type": "code",
   "execution_count": 8,
   "metadata": {},
   "outputs": [
    {
     "data": {
      "text/html": [
       "<div>\n",
       "<style scoped>\n",
       "    .dataframe tbody tr th:only-of-type {\n",
       "        vertical-align: middle;\n",
       "    }\n",
       "\n",
       "    .dataframe tbody tr th {\n",
       "        vertical-align: top;\n",
       "    }\n",
       "\n",
       "    .dataframe thead th {\n",
       "        text-align: right;\n",
       "    }\n",
       "</style>\n",
       "<table border=\"1\" class=\"dataframe\">\n",
       "  <thead>\n",
       "    <tr style=\"text-align: right;\">\n",
       "      <th></th>\n",
       "      <th>tweets</th>\n",
       "      <th>unique_users</th>\n",
       "    </tr>\n",
       "    <tr>\n",
       "      <th>date</th>\n",
       "      <th></th>\n",
       "      <th></th>\n",
       "    </tr>\n",
       "  </thead>\n",
       "  <tbody>\n",
       "    <tr>\n",
       "      <td>01</td>\n",
       "      <td>10730</td>\n",
       "      <td>5016</td>\n",
       "    </tr>\n",
       "    <tr>\n",
       "      <td>02</td>\n",
       "      <td>16334</td>\n",
       "      <td>7403</td>\n",
       "    </tr>\n",
       "    <tr>\n",
       "      <td>03</td>\n",
       "      <td>42805</td>\n",
       "      <td>22632</td>\n",
       "    </tr>\n",
       "    <tr>\n",
       "      <td>04</td>\n",
       "      <td>38742</td>\n",
       "      <td>18209</td>\n",
       "    </tr>\n",
       "    <tr>\n",
       "      <td>05</td>\n",
       "      <td>11020</td>\n",
       "      <td>5444</td>\n",
       "    </tr>\n",
       "  </tbody>\n",
       "</table>\n",
       "</div>"
      ],
      "text/plain": [
       "      tweets  unique_users\n",
       "date                      \n",
       "01     10730          5016\n",
       "02     16334          7403\n",
       "03     42805         22632\n",
       "04     38742         18209\n",
       "05     11020          5444"
      ]
     },
     "execution_count": 8,
     "metadata": {},
     "output_type": "execute_result"
    }
   ],
   "source": [
    "grouped_m = df.groupby(df['date'].dt.strftime('%m'))\n",
    "df_grouped_m =pd.DataFrame({\"tweets\": grouped_m[\"id\"].count(),\"unique_users\": grouped_m[\"username\"].nunique()})\n",
    "df_grouped_m"
   ]
  },
  {
   "cell_type": "code",
   "execution_count": 9,
   "metadata": {
    "scrolled": false
   },
   "outputs": [
    {
     "data": {
      "image/png": "[encoded data removed]",
      "text/plain": [
       "<Figure size 864x432 with 1 Axes>"
      ]
     },
     "metadata": {
      "needs_background": "light"
     },
     "output_type": "display_data"
    }
   ],
   "source": [
    "import calendar\n",
    "fig, ax = plt.subplots(1,1,figsize=(12,6))\n",
    "\n",
    "df_grouped_m.tweets.plot(style='-', label=\"tweets\",ax=ax)\n",
    "df_grouped_m.unique_users.plot(style=\"-\",label=\"unique users\",ax=ax)\n",
    "\n",
    "ax.set_xlabel(\"Month\")\n",
    "ax.set_ylabel(\"Count\")\n",
    "\n",
    "ax.set_title(\"#2020Census\")\n",
    "plt.xticks(np.arange(5), calendar.month_name[1:6], rotation=20)\n",
    "plt.legend();"
   ]
  },
  {
   "cell_type": "markdown",
   "metadata": {},
   "source": [
    "## Most active users"
   ]
  },
  {
   "cell_type": "code",
   "execution_count": 10,
   "metadata": {},
   "outputs": [
    {
     "data": {
      "text/html": [
       "<div>\n",
       "<style scoped>\n",
       "    .dataframe tbody tr th:only-of-type {\n",
       "        vertical-align: middle;\n",
       "    }\n",
       "\n",
       "    .dataframe tbody tr th {\n",
       "        vertical-align: top;\n",
       "    }\n",
       "\n",
       "    .dataframe thead th {\n",
       "        text-align: right;\n",
       "    }\n",
       "</style>\n",
       "<table border=\"1\" class=\"dataframe\">\n",
       "  <thead>\n",
       "    <tr style=\"text-align: right;\">\n",
       "      <th></th>\n",
       "      <th>tweets</th>\n",
       "      <th>days</th>\n",
       "    </tr>\n",
       "    <tr>\n",
       "      <th>username</th>\n",
       "      <th></th>\n",
       "      <th></th>\n",
       "    </tr>\n",
       "  </thead>\n",
       "  <tbody>\n",
       "    <tr>\n",
       "      <td>hansilowang</td>\n",
       "      <td>736</td>\n",
       "      <td>99</td>\n",
       "    </tr>\n",
       "    <tr>\n",
       "      <td>KansasCounts</td>\n",
       "      <td>275</td>\n",
       "      <td>90</td>\n",
       "    </tr>\n",
       "    <tr>\n",
       "      <td>uscensusbureau</td>\n",
       "      <td>251</td>\n",
       "      <td>105</td>\n",
       "    </tr>\n",
       "    <tr>\n",
       "      <td>CTCounts2020</td>\n",
       "      <td>231</td>\n",
       "      <td>103</td>\n",
       "    </tr>\n",
       "    <tr>\n",
       "      <td>SDIDEC</td>\n",
       "      <td>213</td>\n",
       "      <td>95</td>\n",
       "    </tr>\n",
       "    <tr>\n",
       "      <td>LawyersComm</td>\n",
       "      <td>204</td>\n",
       "      <td>67</td>\n",
       "    </tr>\n",
       "    <tr>\n",
       "      <td>TrueNorth_CS</td>\n",
       "      <td>200</td>\n",
       "      <td>107</td>\n",
       "    </tr>\n",
       "    <tr>\n",
       "      <td>ABNYCensus2020</td>\n",
       "      <td>192</td>\n",
       "      <td>70</td>\n",
       "    </tr>\n",
       "    <tr>\n",
       "      <td>CWENYC</td>\n",
       "      <td>188</td>\n",
       "      <td>81</td>\n",
       "    </tr>\n",
       "    <tr>\n",
       "      <td>HudsonCensus</td>\n",
       "      <td>177</td>\n",
       "      <td>64</td>\n",
       "    </tr>\n",
       "    <tr>\n",
       "      <td>SMC_CommAffairs</td>\n",
       "      <td>176</td>\n",
       "      <td>74</td>\n",
       "    </tr>\n",
       "    <tr>\n",
       "      <td>CACensus</td>\n",
       "      <td>170</td>\n",
       "      <td>100</td>\n",
       "    </tr>\n",
       "    <tr>\n",
       "      <td>meechebucco</td>\n",
       "      <td>169</td>\n",
       "      <td>34</td>\n",
       "    </tr>\n",
       "    <tr>\n",
       "      <td>dccensus</td>\n",
       "      <td>169</td>\n",
       "      <td>96</td>\n",
       "    </tr>\n",
       "    <tr>\n",
       "      <td>KYYouth</td>\n",
       "      <td>163</td>\n",
       "      <td>77</td>\n",
       "    </tr>\n",
       "    <tr>\n",
       "      <td>CommBovo</td>\n",
       "      <td>160</td>\n",
       "      <td>93</td>\n",
       "    </tr>\n",
       "    <tr>\n",
       "      <td>ops_district</td>\n",
       "      <td>155</td>\n",
       "      <td>81</td>\n",
       "    </tr>\n",
       "    <tr>\n",
       "      <td>AACF</td>\n",
       "      <td>150</td>\n",
       "      <td>71</td>\n",
       "    </tr>\n",
       "    <tr>\n",
       "      <td>BrowardCensus</td>\n",
       "      <td>148</td>\n",
       "      <td>84</td>\n",
       "    </tr>\n",
       "    <tr>\n",
       "      <td>AAAJ_AAJC</td>\n",
       "      <td>143</td>\n",
       "      <td>64</td>\n",
       "    </tr>\n",
       "  </tbody>\n",
       "</table>\n",
       "</div>"
      ],
      "text/plain": [
       "                 tweets  days\n",
       "username                     \n",
       "hansilowang         736    99\n",
       "KansasCounts        275    90\n",
       "uscensusbureau      251   105\n",
       "CTCounts2020        231   103\n",
       "SDIDEC              213    95\n",
       "LawyersComm         204    67\n",
       "TrueNorth_CS        200   107\n",
       "ABNYCensus2020      192    70\n",
       "CWENYC              188    81\n",
       "HudsonCensus        177    64\n",
       "SMC_CommAffairs     176    74\n",
       "CACensus            170   100\n",
       "meechebucco         169    34\n",
       "dccensus            169    96\n",
       "KYYouth             163    77\n",
       "CommBovo            160    93\n",
       "ops_district        155    81\n",
       "AACF                150    71\n",
       "BrowardCensus       148    84\n",
       "AAAJ_AAJC           143    64"
      ]
     },
     "execution_count": 10,
     "metadata": {},
     "output_type": "execute_result"
    }
   ],
   "source": [
    "grouped_u = df.groupby(df['username'])\n",
    "df_grouped_u =pd.DataFrame({\"tweets\": grouped_u[\"id\"].count(),\"days\": grouped_u[\"date\"].nunique()})\n",
    "df_grouped_u.sort_values(by=[\"tweets\"],ascending=False)[:20]"
   ]
  },
  {
   "cell_type": "markdown",
   "metadata": {},
   "source": [
    "Last update:"
   ]
  },
  {
   "cell_type": "code",
   "execution_count": 11,
   "metadata": {},
   "outputs": [
    {
     "data": {
      "text/plain": [
       "Timestamp('2020-05-11 00:00:00')"
      ]
     },
     "execution_count": 11,
     "metadata": {},
     "output_type": "execute_result"
    }
   ],
   "source": [
    "df.date.max()"
   ]
  },
  {
   "cell_type": "code",
   "execution_count": null,
   "metadata": {},
   "outputs": [],
   "source": []
  }
 ],
 "metadata": {
  "kernelspec": {
   "display_name": "eods-f19",
   "language": "python",
   "name": "eods-f19"
  },
  "language_info": {
   "codemirror_mode": {
    "name": "ipython",
    "version": 3
   },
   "file_extension": ".py",
   "mimetype": "text/x-python",
   "name": "python",
   "nbconvert_exporter": "python",
   "pygments_lexer": "ipython3",
   "version": "3.7.4"
  }
 },
 "nbformat": 4,
 "nbformat_minor": 2
}
