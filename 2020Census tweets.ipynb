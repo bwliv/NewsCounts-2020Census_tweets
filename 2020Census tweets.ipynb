{
 "cells": [
  {
   "cell_type": "code",
   "execution_count": 1,
   "metadata": {},
   "outputs": [],
   "source": [
    "import pandas as pd\n",
    "import numpy as np\n",
    "import matplotlib.pyplot as plt\n",
    "%matplotlib inline"
   ]
  },
  {
   "cell_type": "code",
   "execution_count": 2,
   "metadata": {},
   "outputs": [],
   "source": [
    "frames = []\n",
    "for m in range(1,6):\n",
    "    temp_df = pd.read_csv(f\"data/census_tweets_month_{m}.csv\",parse_dates=[\"date\"])\n",
    "    frames.append(temp_df)"
   ]
  },
  {
   "cell_type": "code",
   "execution_count": 3,
   "metadata": {},
   "outputs": [
    {
     "name": "stdout",
     "output_type": "stream",
     "text": [
      "(118229, 11)\n"
     ]
    },
    {
     "data": {
      "text/html": [
       "<div>\n",
       "<style scoped>\n",
       "    .dataframe tbody tr th:only-of-type {\n",
       "        vertical-align: middle;\n",
       "    }\n",
       "\n",
       "    .dataframe tbody tr th {\n",
       "        vertical-align: top;\n",
       "    }\n",
       "\n",
       "    .dataframe thead th {\n",
       "        text-align: right;\n",
       "    }\n",
       "</style>\n",
       "<table border=\"1\" class=\"dataframe\">\n",
       "  <thead>\n",
       "    <tr style=\"text-align: right;\">\n",
       "      <th></th>\n",
       "      <th>id</th>\n",
       "      <th>timestamp</th>\n",
       "      <th>username</th>\n",
       "      <th>text</th>\n",
       "      <th>hashtags</th>\n",
       "      <th>geo</th>\n",
       "      <th>retweets</th>\n",
       "      <th>favorites</th>\n",
       "      <th>mentions</th>\n",
       "      <th>to</th>\n",
       "      <th>date</th>\n",
       "    </tr>\n",
       "  </thead>\n",
       "  <tbody>\n",
       "    <tr>\n",
       "      <td>10143</td>\n",
       "      <td>1.212480e+18</td>\n",
       "      <td>2020-01-01 21:05:29+00:00</td>\n",
       "      <td>CountTheNation</td>\n",
       "      <td>$800 BILLION WHO!? WHAT!? The more people cou...</td>\n",
       "      <td>#ThisisUS #StandUpBeCounted #2020Census #Every...</td>\n",
       "      <td>NaN</td>\n",
       "      <td>0</td>\n",
       "      <td>2</td>\n",
       "      <td>@ColorOfChange @NALEO @uscensusbureau</td>\n",
       "      <td>NaN</td>\n",
       "      <td>2020-01-01</td>\n",
       "    </tr>\n",
       "    <tr>\n",
       "      <td>10162</td>\n",
       "      <td>1.212449e+18</td>\n",
       "      <td>2020-01-01 19:00:56+00:00</td>\n",
       "      <td>WakeGOV</td>\n",
       "      <td>#HappyNewYear! The #2020Census is closer than ...</td>\n",
       "      <td>#HappyNewYear #2020Census #Census101 #WakeCounts</td>\n",
       "      <td>NaN</td>\n",
       "      <td>2</td>\n",
       "      <td>3</td>\n",
       "      <td>NaN</td>\n",
       "      <td>NaN</td>\n",
       "      <td>2020-01-01</td>\n",
       "    </tr>\n",
       "    <tr>\n",
       "      <td>10163</td>\n",
       "      <td>1.212448e+18</td>\n",
       "      <td>2020-01-01 19:00:02+00:00</td>\n",
       "      <td>CAPOrangeCounty</td>\n",
       "      <td>¡Es oficialmente el 2020! ¡Su primer meta del ...</td>\n",
       "      <td>#CENSO2020 #CENSO2020 #OCCuenta2020 #NewYear #...</td>\n",
       "      <td>NaN</td>\n",
       "      <td>2</td>\n",
       "      <td>1</td>\n",
       "      <td>NaN</td>\n",
       "      <td>NaN</td>\n",
       "      <td>2020-01-01</td>\n",
       "    </tr>\n",
       "    <tr>\n",
       "      <td>10164</td>\n",
       "      <td>1.212448e+18</td>\n",
       "      <td>2020-01-01 18:59:48+00:00</td>\n",
       "      <td>AlabamaCounts</td>\n",
       "      <td>The #2020Census is almost here. We are ready f...</td>\n",
       "      <td>#2020Census</td>\n",
       "      <td>NaN</td>\n",
       "      <td>3</td>\n",
       "      <td>1</td>\n",
       "      <td>NaN</td>\n",
       "      <td>uscensusbureau</td>\n",
       "      <td>2020-01-01</td>\n",
       "    </tr>\n",
       "    <tr>\n",
       "      <td>10165</td>\n",
       "      <td>1.212446e+18</td>\n",
       "      <td>2020-01-01 18:51:59+00:00</td>\n",
       "      <td>JeffWice</td>\n",
       "      <td>NY projected to lose 1 congressional district ...</td>\n",
       "      <td>#2020Census</td>\n",
       "      <td>NaN</td>\n",
       "      <td>2</td>\n",
       "      <td>2</td>\n",
       "      <td>@mandy_fries @timesunion @NYLawSchool @NYElect...</td>\n",
       "      <td>NaN</td>\n",
       "      <td>2020-01-01</td>\n",
       "    </tr>\n",
       "  </tbody>\n",
       "</table>\n",
       "</div>"
      ],
      "text/plain": [
       "                 id                  timestamp         username  \\\n",
       "10143  1.212480e+18  2020-01-01 21:05:29+00:00   CountTheNation   \n",
       "10162  1.212449e+18  2020-01-01 19:00:56+00:00          WakeGOV   \n",
       "10163  1.212448e+18  2020-01-01 19:00:02+00:00  CAPOrangeCounty   \n",
       "10164  1.212448e+18  2020-01-01 18:59:48+00:00    AlabamaCounts   \n",
       "10165  1.212446e+18  2020-01-01 18:51:59+00:00         JeffWice   \n",
       "\n",
       "                                                    text  \\\n",
       "10143   $800 BILLION WHO!? WHAT!? The more people cou...   \n",
       "10162  #HappyNewYear! The #2020Census is closer than ...   \n",
       "10163  ¡Es oficialmente el 2020! ¡Su primer meta del ...   \n",
       "10164  The #2020Census is almost here. We are ready f...   \n",
       "10165  NY projected to lose 1 congressional district ...   \n",
       "\n",
       "                                                hashtags  geo  retweets  \\\n",
       "10143  #ThisisUS #StandUpBeCounted #2020Census #Every...  NaN         0   \n",
       "10162   #HappyNewYear #2020Census #Census101 #WakeCounts  NaN         2   \n",
       "10163  #CENSO2020 #CENSO2020 #OCCuenta2020 #NewYear #...  NaN         2   \n",
       "10164                                        #2020Census  NaN         3   \n",
       "10165                                        #2020Census  NaN         2   \n",
       "\n",
       "       favorites                                           mentions  \\\n",
       "10143          2              @ColorOfChange @NALEO @uscensusbureau   \n",
       "10162          3                                                NaN   \n",
       "10163          1                                                NaN   \n",
       "10164          1                                                NaN   \n",
       "10165          2  @mandy_fries @timesunion @NYLawSchool @NYElect...   \n",
       "\n",
       "                   to       date  \n",
       "10143             NaN 2020-01-01  \n",
       "10162             NaN 2020-01-01  \n",
       "10163             NaN 2020-01-01  \n",
       "10164  uscensusbureau 2020-01-01  \n",
       "10165             NaN 2020-01-01  "
      ]
     },
     "execution_count": 3,
     "metadata": {},
     "output_type": "execute_result"
    }
   ],
   "source": [
    "df = pd.concat(frames).sort_values(by=['date'])\n",
    "print(df.shape)\n",
    "df.head()"
   ]
  },
  {
   "cell_type": "code",
   "execution_count": 4,
   "metadata": {},
   "outputs": [],
   "source": [
    "grouped = df.groupby(\"date\")"
   ]
  },
  {
   "cell_type": "code",
   "execution_count": 5,
   "metadata": {},
   "outputs": [
    {
     "data": {
      "text/html": [
       "<div>\n",
       "<style scoped>\n",
       "    .dataframe tbody tr th:only-of-type {\n",
       "        vertical-align: middle;\n",
       "    }\n",
       "\n",
       "    .dataframe tbody tr th {\n",
       "        vertical-align: top;\n",
       "    }\n",
       "\n",
       "    .dataframe thead th {\n",
       "        text-align: right;\n",
       "    }\n",
       "</style>\n",
       "<table border=\"1\" class=\"dataframe\">\n",
       "  <thead>\n",
       "    <tr style=\"text-align: right;\">\n",
       "      <th></th>\n",
       "      <th>tweets</th>\n",
       "      <th>unique_users</th>\n",
       "    </tr>\n",
       "    <tr>\n",
       "      <th>date</th>\n",
       "      <th></th>\n",
       "      <th></th>\n",
       "    </tr>\n",
       "  </thead>\n",
       "  <tbody>\n",
       "    <tr>\n",
       "      <td>2020-01-01</td>\n",
       "      <td>117</td>\n",
       "      <td>108</td>\n",
       "    </tr>\n",
       "    <tr>\n",
       "      <td>2020-01-02</td>\n",
       "      <td>188</td>\n",
       "      <td>178</td>\n",
       "    </tr>\n",
       "    <tr>\n",
       "      <td>2020-01-03</td>\n",
       "      <td>180</td>\n",
       "      <td>155</td>\n",
       "    </tr>\n",
       "    <tr>\n",
       "      <td>2020-01-04</td>\n",
       "      <td>111</td>\n",
       "      <td>83</td>\n",
       "    </tr>\n",
       "    <tr>\n",
       "      <td>2020-01-05</td>\n",
       "      <td>72</td>\n",
       "      <td>67</td>\n",
       "    </tr>\n",
       "    <tr>\n",
       "      <td>...</td>\n",
       "      <td>...</td>\n",
       "      <td>...</td>\n",
       "    </tr>\n",
       "    <tr>\n",
       "      <td>2020-05-04</td>\n",
       "      <td>1031</td>\n",
       "      <td>858</td>\n",
       "    </tr>\n",
       "    <tr>\n",
       "      <td>2020-05-05</td>\n",
       "      <td>926</td>\n",
       "      <td>759</td>\n",
       "    </tr>\n",
       "    <tr>\n",
       "      <td>2020-05-06</td>\n",
       "      <td>946</td>\n",
       "      <td>791</td>\n",
       "    </tr>\n",
       "    <tr>\n",
       "      <td>2020-05-07</td>\n",
       "      <td>906</td>\n",
       "      <td>747</td>\n",
       "    </tr>\n",
       "    <tr>\n",
       "      <td>2020-05-08</td>\n",
       "      <td>846</td>\n",
       "      <td>692</td>\n",
       "    </tr>\n",
       "  </tbody>\n",
       "</table>\n",
       "<p>129 rows × 2 columns</p>\n",
       "</div>"
      ],
      "text/plain": [
       "            tweets  unique_users\n",
       "date                            \n",
       "2020-01-01     117           108\n",
       "2020-01-02     188           178\n",
       "2020-01-03     180           155\n",
       "2020-01-04     111            83\n",
       "2020-01-05      72            67\n",
       "...            ...           ...\n",
       "2020-05-04    1031           858\n",
       "2020-05-05     926           759\n",
       "2020-05-06     946           791\n",
       "2020-05-07     906           747\n",
       "2020-05-08     846           692\n",
       "\n",
       "[129 rows x 2 columns]"
      ]
     },
     "execution_count": 5,
     "metadata": {},
     "output_type": "execute_result"
    }
   ],
   "source": [
    "df_grouped=pd.DataFrame({\"tweets\": grouped[\"id\"].count(),\"unique_users\": grouped[\"username\"].nunique()})\n",
    "df_grouped"
   ]
  },
  {
   "cell_type": "code",
   "execution_count": 6,
   "metadata": {},
   "outputs": [
    {
     "data": {
      "image/png": "[encoded data removed]",
      "text/plain": [
       "<Figure size 864x432 with 1 Axes>"
      ]
     },
     "metadata": {
      "needs_background": "light"
     },
     "output_type": "display_data"
    }
   ],
   "source": [
    "fig, ax = plt.subplots(1,1,figsize=(12,6))\n",
    "\n",
    "df_grouped.tweets.plot(style='-', label=\"tweets\",ax=ax)\n",
    "df_grouped.unique_users.plot(style=\"-\",label=\"unique users\",ax=ax)\n",
    "\n",
    "ax.set_xlabel(\"Date\")\n",
    "ax.set_ylabel(\"Count\")\n",
    "\n",
    "ax.set_title(\"#2020Census\")\n",
    "plt.legend();"
   ]
  },
  {
   "cell_type": "markdown",
   "metadata": {},
   "source": [
    "Days with more tweets:"
   ]
  },
  {
   "cell_type": "code",
   "execution_count": 7,
   "metadata": {},
   "outputs": [
    {
     "data": {
      "text/plain": [
       "date\n",
       "2020-04-01    11647\n",
       "2020-03-24     2835\n",
       "2020-03-12     2677\n",
       "2020-03-31     2495\n",
       "2020-04-02     2422\n",
       "Name: tweets, dtype: int64"
      ]
     },
     "execution_count": 7,
     "metadata": {},
     "output_type": "execute_result"
    }
   ],
   "source": [
    "df_grouped.sort_values([\"tweets\"], ascending=False)[\"tweets\"].iloc[:5]"
   ]
  },
  {
   "cell_type": "code",
   "execution_count": null,
   "metadata": {},
   "outputs": [],
   "source": []
  },
  {
   "cell_type": "code",
   "execution_count": null,
   "metadata": {},
   "outputs": [],
   "source": []
  }
 ],
 "metadata": {
  "kernelspec": {
   "display_name": "eods-f19",
   "language": "python",
   "name": "eods-f19"
  },
  "language_info": {
   "codemirror_mode": {
    "name": "ipython",
    "version": 3
   },
   "file_extension": ".py",
   "mimetype": "text/x-python",
   "name": "python",
   "nbconvert_exporter": "python",
   "pygments_lexer": "ipython3",
   "version": "3.7.4"
  }
 },
 "nbformat": 4,
 "nbformat_minor": 2
}
